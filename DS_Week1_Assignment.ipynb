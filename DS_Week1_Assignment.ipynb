{
  "nbformat": 4,
  "nbformat_minor": 0,
  "metadata": {
    "colab": {
      "provenance": []
    },
    "kernelspec": {
      "name": "python3",
      "display_name": "Python 3"
    },
    "language_info": {
      "name": "python"
    }
  },
  "cells": [
    {
      "cell_type": "markdown",
      "source": [
        "**Data Science Bootcamp Week 1 Assignment**"
      ],
      "metadata": {
        "id": "jWzrqKLn5ErC"
      }
    },
    {
      "cell_type": "code",
      "execution_count": 1,
      "metadata": {
        "colab": {
          "base_uri": "https://localhost:8080/"
        },
        "id": "B5FQPmA644AJ",
        "outputId": "9cf99bbc-159e-4e2e-a6e0-6a9500d44360"
      },
      "outputs": [
        {
          "output_type": "execute_result",
          "data": {
            "text/plain": [
              "[0, 1, 1, 2, 3, 5, 8, 13, 21, 34]"
            ]
          },
          "metadata": {},
          "execution_count": 1
        }
      ],
      "source": [
        "# 1.⁠ ⁠Display Fibonacci Series upto 10 terms\n",
        "\n",
        "def fibonacci(n):\n",
        "  res = []\n",
        "  a, b = 0, 1\n",
        "  for i in range(n):\n",
        "    res.append(a)\n",
        "    a, b = b, a+b\n",
        "  return res\n",
        "\n",
        "fibonacci(10)"
      ]
    },
    {
      "cell_type": "code",
      "source": [
        "# 2.⁠ ⁠Display numbers at the odd indices of a list\n",
        "\n",
        "my_list = [1, 2, 3, 4, 5, 6, 7, 8, 9, 10]\n",
        "\n",
        "for i in range(len(my_list)):\n",
        "  if i%2 != 0:\n",
        "    print(my_list[i])"
      ],
      "metadata": {
        "colab": {
          "base_uri": "https://localhost:8080/"
        },
        "id": "L6qYT6Io48s3",
        "outputId": "acfcb815-98c1-4cc6-ea1b-3941e87d3264"
      },
      "execution_count": 2,
      "outputs": [
        {
          "output_type": "stream",
          "name": "stdout",
          "text": [
            "2\n",
            "4\n",
            "6\n",
            "8\n",
            "10\n"
          ]
        }
      ]
    },
    {
      "cell_type": "code",
      "source": [
        "# 3.⁠ ⁠Your task is to count the number of different words in this text\n",
        "\n",
        "string = \"\"\"\n",
        "\n",
        "I have provided this text to provide tips on creating interesting paragraphs.\n",
        "\n",
        "First, start with a clear topic sentence that introduces the main idea.\n",
        "\n",
        "Then, support the topic sentence with specific details, examples, and evidence.\n",
        "\n",
        "Vary the sentence length and structure to keep the reader engaged.\n",
        "\n",
        "Finally, end with a strong concluding sentence that summarizes the main points.\n",
        "\n",
        "Remember, practice makes perfect!\n",
        "\n",
        "\"\"\"\n",
        "\n",
        "tokens = string.split()\n",
        "normalized = [token.rstrip('.,!').lower() for token in tokens]\n",
        "word_count = {}\n",
        "n = 0\n",
        "for word in normalized:\n",
        "  if word not in word_count:\n",
        "    word_count[word] = 1\n",
        "    n += 1\n",
        "  else:\n",
        "    word_count[word] += 1\n",
        "\n",
        "print('There are {} different words in the text.'.format(n))\n"
      ],
      "metadata": {
        "colab": {
          "base_uri": "https://localhost:8080/"
        },
        "id": "tZQCaVEN49JN",
        "outputId": "82b7c345-5fdb-4713-a25f-0b8df44e6099"
      },
      "execution_count": 11,
      "outputs": [
        {
          "output_type": "stream",
          "name": "stdout",
          "text": [
            "There are 47 different words in the text.\n"
          ]
        }
      ]
    },
    {
      "cell_type": "code",
      "source": [
        "# 4.⁠ ⁠Write a function count_vowels(word) that takes a word as an argument and returns the number of vowels in the word\n",
        "\n",
        "def count_vowels(word):\n",
        "  vowels = ['a', 'e', 'i', 'o', 'u']\n",
        "  n = 0\n",
        "  for char in word:\n",
        "    if char in vowels:\n",
        "      n += 1\n",
        "  return n\n",
        "\n",
        "count_vowels('data')"
      ],
      "metadata": {
        "colab": {
          "base_uri": "https://localhost:8080/"
        },
        "id": "c4L1KY-V49N4",
        "outputId": "65e15713-c28e-4bfc-cd35-a2562e51dfdf"
      },
      "execution_count": 13,
      "outputs": [
        {
          "output_type": "execute_result",
          "data": {
            "text/plain": [
              "2"
            ]
          },
          "metadata": {},
          "execution_count": 13
        }
      ]
    },
    {
      "cell_type": "code",
      "source": [
        "# 5.⁠ ⁠Iterate through the following list of animals and print each one in all caps.\n",
        "\n",
        "animals=['tiger', 'elephant', 'monkey', 'zebra', 'panther']\n",
        "\n",
        "for animal in animals:\n",
        "  print(animal.upper())\n"
      ],
      "metadata": {
        "colab": {
          "base_uri": "https://localhost:8080/"
        },
        "id": "_eY9cB8p49VY",
        "outputId": "56da1597-614b-4cdb-bf7f-8f850e7fb74a"
      },
      "execution_count": 15,
      "outputs": [
        {
          "output_type": "stream",
          "name": "stdout",
          "text": [
            "TIGER\n",
            "ELEPHANT\n",
            "MONKEY\n",
            "ZEBRA\n",
            "PANTHER\n"
          ]
        }
      ]
    },
    {
      "cell_type": "code",
      "source": [
        "# 6.⁠ ⁠Write a program that iterates from 1 to 20, printing each number and whether it's odd or even.\n",
        "\n",
        "for i in range(1, 21):\n",
        "  print('{} is {}'.format(i, 'odd' if i%2 != 0 else 'even'))"
      ],
      "metadata": {
        "colab": {
          "base_uri": "https://localhost:8080/"
        },
        "id": "uv7oIOJS6Ndm",
        "outputId": "b23edd6c-98c9-40f6-acbf-50936f2788c9"
      },
      "execution_count": 18,
      "outputs": [
        {
          "output_type": "stream",
          "name": "stdout",
          "text": [
            "1 is odd\n",
            "2 is even\n",
            "3 is odd\n",
            "4 is even\n",
            "5 is odd\n",
            "6 is even\n",
            "7 is odd\n",
            "8 is even\n",
            "9 is odd\n",
            "10 is even\n",
            "11 is odd\n",
            "12 is even\n",
            "13 is odd\n",
            "14 is even\n",
            "15 is odd\n",
            "16 is even\n",
            "17 is odd\n",
            "18 is even\n",
            "19 is odd\n",
            "20 is even\n"
          ]
        }
      ]
    },
    {
      "cell_type": "code",
      "source": [
        "# 7.⁠ ⁠Write a function sum_of_integers(a, b) that takes two integers as input from the user and returns their sum.\n",
        "\n",
        "def sum_of_integers(a,b):\n",
        "  return a + b\n",
        "\n",
        "sum_of_integers(10, 16)\n"
      ],
      "metadata": {
        "colab": {
          "base_uri": "https://localhost:8080/"
        },
        "id": "X8cnw2_26NTn",
        "outputId": "23c312f0-c760-4ef7-a021-9ef7a6610a7a"
      },
      "execution_count": 19,
      "outputs": [
        {
          "output_type": "execute_result",
          "data": {
            "text/plain": [
              "26"
            ]
          },
          "metadata": {},
          "execution_count": 19
        }
      ]
    }
  ]
}